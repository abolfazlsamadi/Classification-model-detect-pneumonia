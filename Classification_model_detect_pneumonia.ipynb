{
  "nbformat": 4,
  "nbformat_minor": 0,
  "metadata": {
    "colab": {
      "name": "Classification model detect pneumonia.ipynb",
      "provenance": [],
      "collapsed_sections": [],
      "authorship_tag": "ABX9TyPsRa7VaICt/QxCYmfeu5M0",
      "include_colab_link": true
    },
    "kernelspec": {
      "name": "python3",
      "display_name": "Python 3"
    },
    "language_info": {
      "name": "python"
    },
    "accelerator": "GPU"
  },
  "cells": [
    {
      "cell_type": "markdown",
      "metadata": {
        "id": "view-in-github",
        "colab_type": "text"
      },
      "source": [
        "<a href=\"https://colab.research.google.com/github/abolfazlsamadi/Classification-model-detect-pneumonia/blob/main/Classification_model_detect_pneumonia.ipynb\" target=\"_parent\"><img src=\"https://colab.research.google.com/assets/colab-badge.svg\" alt=\"Open In Colab\"/></a>"
      ]
    },
    {
      "cell_type": "markdown",
      "metadata": {
        "id": "WMsHPvUeo7UW"
      },
      "source": [
        "## **Classification model detect pneumonia**\n",
        "\n",
        "*   List item\n",
        "*   List item\n",
        "\n",
        "\n"
      ]
    },
    {
      "cell_type": "markdown",
      "metadata": {
        "id": "t6xiL9zRSXxX"
      },
      "source": [
        "In this file, we are going to create a model that can diagnose pneumonic disease and divide the input photos into two groups, patient and non-patient."
      ]
    },
    {
      "cell_type": "markdown",
      "metadata": {
        "id": "2-82okqjnbYs"
      },
      "source": [
        "i'm going to use \"Chest X-Ray Images (Pneumonia)\" dataset.\n",
        "you can download it from the below link.\n",
        "\n",
        "[chest-xray-pneumonia](https://www.kaggle.com/paultimothymooney/chest-xray-pneumonia)"
      ]
    },
    {
      "cell_type": "markdown",
      "metadata": {
        "id": "RZOvCmimpUwx"
      },
      "source": [
        "## In the first step, we shoud load the dataset.\n",
        "\n",
        "---\n",
        "**If you use colab, follow the instructions below :**\n",
        "\n",
        "\n",
        "*   install \"kaggle\" lib\n",
        "*   upload the \"kaggle.json\" file.\n",
        "*   move it in \".kaggle\" dir.\n",
        "*   and change mode to \"600\"\n",
        "\n",
        "*   then download the dataset.\n",
        "\n"
      ]
    },
    {
      "cell_type": "code",
      "metadata": {
        "id": "YKReIQ4hSLF4",
        "colab": {
          "base_uri": "https://localhost:8080/"
        },
        "outputId": "23f532f5-1613-4e80-dece-d0e6cad06072"
      },
      "source": [
        "! pip install kaggle\n",
        "! mkdir ~/.kaggle\n",
        "! mv kaggle.json ~/.kaggle/\n",
        "! chmod 600 ~/.kaggle/kaggle.json"
      ],
      "execution_count": 2,
      "outputs": [
        {
          "output_type": "stream",
          "name": "stdout",
          "text": [
            "Requirement already satisfied: kaggle in /usr/local/lib/python3.7/dist-packages (1.5.12)\n",
            "Requirement already satisfied: certifi in /usr/local/lib/python3.7/dist-packages (from kaggle) (2021.5.30)\n",
            "Requirement already satisfied: requests in /usr/local/lib/python3.7/dist-packages (from kaggle) (2.23.0)\n",
            "Requirement already satisfied: six>=1.10 in /usr/local/lib/python3.7/dist-packages (from kaggle) (1.15.0)\n",
            "Requirement already satisfied: tqdm in /usr/local/lib/python3.7/dist-packages (from kaggle) (4.62.3)\n",
            "Requirement already satisfied: python-slugify in /usr/local/lib/python3.7/dist-packages (from kaggle) (5.0.2)\n",
            "Requirement already satisfied: urllib3 in /usr/local/lib/python3.7/dist-packages (from kaggle) (1.24.3)\n",
            "Requirement already satisfied: python-dateutil in /usr/local/lib/python3.7/dist-packages (from kaggle) (2.8.2)\n",
            "Requirement already satisfied: text-unidecode>=1.3 in /usr/local/lib/python3.7/dist-packages (from python-slugify->kaggle) (1.3)\n",
            "Requirement already satisfied: chardet<4,>=3.0.2 in /usr/local/lib/python3.7/dist-packages (from requests->kaggle) (3.0.4)\n",
            "Requirement already satisfied: idna<3,>=2.5 in /usr/local/lib/python3.7/dist-packages (from requests->kaggle) (2.10)\n",
            "mkdir: cannot create directory ‘/root/.kaggle’: File exists\n"
          ]
        }
      ]
    },
    {
      "cell_type": "code",
      "metadata": {
        "id": "b-kC4ey-ugYb",
        "colab": {
          "base_uri": "https://localhost:8080/"
        },
        "outputId": "7bf57481-4434-442d-c448-0500534005d0"
      },
      "source": [
        "! kaggle datasets download paultimothymooney/chest-xray-pneumonia"
      ],
      "execution_count": 3,
      "outputs": [
        {
          "output_type": "stream",
          "name": "stdout",
          "text": [
            "Downloading chest-xray-pneumonia.zip to /content\n",
            "100% 2.29G/2.29G [00:51<00:00, 68.6MB/s]\n",
            "100% 2.29G/2.29G [00:51<00:00, 47.9MB/s]\n"
          ]
        }
      ]
    },
    {
      "cell_type": "markdown",
      "metadata": {
        "id": "kB2hXVdUnbUE"
      },
      "source": [
        "# The next step, we should unzip the dataset"
      ]
    },
    {
      "cell_type": "code",
      "metadata": {
        "id": "_UK5oaqa244U"
      },
      "source": [
        "import os\n",
        "import zipfile\n",
        "\n",
        "path_zip = \"chest-xray-pneumonia.zip\"\n",
        "zip_file = zipfile.ZipFile(path_zip,'r')\n",
        "zip_file.extractall(\"data\")\n",
        "zip_file.close()"
      ],
      "execution_count": 4,
      "outputs": []
    },
    {
      "cell_type": "markdown",
      "metadata": {
        "id": "n8aTs-rAP770"
      },
      "source": [
        "# import Required libraries"
      ]
    },
    {
      "cell_type": "code",
      "metadata": {
        "id": "gMJTYwQV6ygP"
      },
      "source": [
        "import numpy as np\n",
        "import pandas as pd\n",
        "import shutil"
      ],
      "execution_count": 5,
      "outputs": []
    },
    {
      "cell_type": "code",
      "metadata": {
        "id": "3kX-FVAkQk--"
      },
      "source": [
        "base_dir = \"data/chest_xray\"\n",
        "\n",
        "train_dir = os.path.join(base_dir,\"train\")\n",
        "train_dir_normal = os.path.join(train_dir,\"NORMAL\")\n",
        "train_dir_pneumonia = os.path.join(train_dir,\"PNEUMONIA\")\n",
        "\n",
        "test_dir = os.path.join(base_dir,\"test\")\n",
        "test_dir_normal = os.path.join(test_dir,\"NORMAL\")\n",
        "test_dir_pneumonia = os.path.join(test_dir,\"PNEUMONIA\")\n",
        "\n",
        "val_dir = os.path.join(base_dir,\"val\")\n",
        "val_dir_normal = os.path.join(val_dir,\"NORMAL\")\n",
        "val_dir_pneumonia = os.path.join(val_dir,\"PNEUMONIA\")\n",
        "\n",
        "\n",
        "print(f'there are {len(os.listdir(train_dir_normal))+len(os.listdir(train_dir_pneumonia))} images for training. \\n')\n",
        "print(f'there are {len(os.listdir(test_dir_normal))+len(os.listdir(test_dir_pneumonia))} images for testing. \\n')\n",
        "print(f'there are {len(os.listdir(val_dir_normal))+len(os.listdir(val_dir_pneumonia))} images for validation. \\n')"
      ],
      "execution_count": null,
      "outputs": []
    },
    {
      "cell_type": "markdown",
      "metadata": {
        "id": "NCbIa1BMV6h2"
      },
      "source": [
        "I think validation data is too small so move some data from train data to validation data."
      ]
    },
    {
      "cell_type": "code",
      "metadata": {
        "colab": {
          "base_uri": "https://localhost:8080/"
        },
        "id": "M-LI1-7jWgYm",
        "outputId": "636687b3-46f2-419f-9815-ce0d2f7316f5"
      },
      "source": [
        "split_size = 0.12\n",
        "\n",
        "train_normal_size = len(os.listdir(train_dir_normal))\n",
        "train_pneumonia_size = len(os.listdir(train_dir_pneumonia))\n",
        "\n",
        "split_normal_size = int(split_size * train_normal_size)\n",
        "split_pneumonia_size = int(split_size * train_pneumonia_size)\n",
        "\n",
        "#print(split_normal_size,split_pneumonia_size)\n",
        "\n",
        "train_normal_list = os.listdir(train_dir_normal)\n",
        "train_pneumonia_list = os.listdir(train_dir_pneumonia)\n",
        "\n",
        "normal_list_for_move = np.random.choice(train_normal_list, split_normal_size, replace=False)\n",
        "pneumonia_list_for_move = np.random.choice(train_pneumonia_list, split_pneumonia_size, replace=False)\n",
        "\n",
        "print(\"the size of normal validation data before moving files is : \" , len(os.listdir(val_dir_normal)))\n",
        "print(\"the size of pneumonia validation data before moving files is : \" , len(os.listdir(val_dir_pneumonia)))\n",
        "\n",
        "\n",
        "for img in normal_list_for_move:\n",
        "  shutil.move(train_dir_normal+'/'+img, val_dir_normal+'/'+img)\n",
        "\n",
        "for img in pneumonia_list_for_move:\n",
        "  shutil.move(train_dir_pneumonia+'/'+img, val_dir_pneumonia+'/'+img)\n",
        "\n",
        "\n",
        "print(\"the size of normal validation data after moving files is : \" , len(os.listdir(val_dir_normal)))\n",
        "print(\"the size of pneumonia validation data after moving files is : \" , len(os.listdir(val_dir_pneumonia)))"
      ],
      "execution_count": 7,
      "outputs": [
        {
          "output_type": "stream",
          "name": "stdout",
          "text": [
            "the size of normal validation data before moving files is :  8\n",
            "the size of pneumonia validation data before moving files is :  8\n",
            "the size of normal validation data after moving files is :  168\n",
            "the size of pneumonia validation data after moving files is :  473\n"
          ]
        }
      ]
    },
    {
      "cell_type": "code",
      "metadata": {
        "colab": {
          "base_uri": "https://localhost:8080/"
        },
        "id": "beZDDWNbICjr",
        "outputId": "8678f696-52bc-4534-991f-b05ce11122d9"
      },
      "source": [
        "print(f'there are {len(os.listdir(train_dir_normal))+len(os.listdir(train_dir_pneumonia))} images for training. \\n')\n",
        "print(f'there are {len(os.listdir(test_dir_normal))+len(os.listdir(test_dir_pneumonia))} images for testing. \\n')\n",
        "print(f'there are {len(os.listdir(val_dir_normal))+len(os.listdir(val_dir_pneumonia))} images for validation. \\n')"
      ],
      "execution_count": 8,
      "outputs": [
        {
          "output_type": "stream",
          "name": "stdout",
          "text": [
            "there are 4591 images for training. \n",
            "\n",
            "there are 624 images for testing. \n",
            "\n",
            "there are 641 images for validation. \n",
            "\n"
          ]
        }
      ]
    },
    {
      "cell_type": "markdown",
      "metadata": {
        "id": "IVVgyM6GOT4N"
      },
      "source": [
        "we will use pre-trained models, so in this point we should download weights."
      ]
    },
    {
      "cell_type": "code",
      "metadata": {
        "id": "WEmJgo10QDwQ"
      },
      "source": [
        "from tensorflow.keras import layers\n",
        "from tensorflow.keras import Model"
      ],
      "execution_count": 9,
      "outputs": []
    },
    {
      "cell_type": "code",
      "metadata": {
        "colab": {
          "base_uri": "https://localhost:8080/"
        },
        "id": "-OHFzFhUQVTr",
        "outputId": "5e9eba75-cea5-4be2-cf73-9cb38d3ec029"
      },
      "source": [
        "#!wget --no-check-certificate \\\n",
        "#    https://github.com/fchollet/deep-learning-models/releases/download/v0.1/vgg16_weights_tf_dim_ordering_tf_kernels_notop.h5 \\\n",
        "#    -O /tmp/vgg16_weights_tf_dim_ordering_tf_kernels_notop.h5\n",
        "\n",
        "!wget --no-check-certificate \\\n",
        "    https://storage.googleapis.com/mledu-datasets/inception_v3_weights_tf_dim_ordering_tf_kernels_notop.h5 \\\n",
        "    -O /tmp/inception_v3_weights_tf_dim_ordering_tf_kernels_notop.h5"
      ],
      "execution_count": 10,
      "outputs": [
        {
          "output_type": "stream",
          "name": "stdout",
          "text": [
            "--2021-10-07 19:32:08--  https://storage.googleapis.com/mledu-datasets/inception_v3_weights_tf_dim_ordering_tf_kernels_notop.h5\n",
            "Resolving storage.googleapis.com (storage.googleapis.com)... 108.177.97.128, 108.177.125.128, 142.251.8.128, ...\n",
            "Connecting to storage.googleapis.com (storage.googleapis.com)|108.177.97.128|:443... connected.\n",
            "HTTP request sent, awaiting response... 200 OK\n",
            "Length: 87910968 (84M) [application/x-hdf]\n",
            "Saving to: ‘/tmp/inception_v3_weights_tf_dim_ordering_tf_kernels_notop.h5’\n",
            "\n",
            "/tmp/inception_v3_w 100%[===================>]  83.84M  29.7MB/s    in 2.8s    \n",
            "\n",
            "2021-10-07 19:32:11 (29.7 MB/s) - ‘/tmp/inception_v3_weights_tf_dim_ordering_tf_kernels_notop.h5’ saved [87910968/87910968]\n",
            "\n"
          ]
        }
      ]
    },
    {
      "cell_type": "code",
      "metadata": {
        "id": "KlSqKAMkQZqL"
      },
      "source": [
        "#from tensorflow.keras.applications.vgg16 import VGG16\n",
        "from tensorflow.keras.applications.inception_v3 import InceptionV3\n",
        "\n",
        "\n",
        "#pre_trained_model = VGG16(input_shape = (150, 150, 3), \n",
        "#                                include_top = False, \n",
        "#                                weights = None)\n",
        "\n",
        "pre_trained_model = InceptionV3(input_shape = (150, 150, 3), \n",
        "                                include_top = False, \n",
        "                                weights = None)\n",
        "\n",
        "\n",
        "#weights_file = \"/tmp/vgg16_weights_tf_dim_ordering_tf_kernels_notop.h5\"\n",
        "\n",
        "weights_file = \"/tmp/inception_v3_weights_tf_dim_ordering_tf_kernels_notop.h5\"\n",
        "\n",
        "pre_trained_model.load_weights(weights_file)\n",
        "\n",
        "for layer in pre_trained_model.layers :\n",
        "  layer.trainable = False\n",
        "\n",
        "\n",
        "#pre_trained_model.summary()\n",
        "\n",
        "#last_layer = pre_trained_model.get_layer(\"block5_conv3\")\n",
        "last_layer = pre_trained_model.get_layer(\"mixed7\")\n",
        "last_output = last_layer.output"
      ],
      "execution_count": 11,
      "outputs": []
    },
    {
      "cell_type": "code",
      "metadata": {
        "id": "9dbJ-4_iTV-B"
      },
      "source": [
        "from tensorflow.keras.optimizers import RMSprop\n",
        "\n",
        "\n",
        "x = layers.Flatten()(last_output)\n",
        "x = layers.Dense(1024, activation=\"relu\")(x)\n",
        "x = layers.Dropout(0.2)(x)\n",
        "x = layers.Dense(1,activation=\"sigmoid\")(x)\n",
        "\n",
        "\n",
        "model = Model(pre_trained_model.input, x)\n",
        "\n",
        "model.compile(optimizer = RMSprop(learning_rate=0.0001), \n",
        "              loss = 'binary_crossentropy', \n",
        "              metrics = ['accuracy'])"
      ],
      "execution_count": 12,
      "outputs": []
    },
    {
      "cell_type": "markdown",
      "metadata": {
        "id": "SLBifg5yQQVb"
      },
      "source": [
        "# Data preprocessing\n",
        "\n",
        "**At this point, we need to pre-process our data**\n",
        "\n",
        "normalize the data & data augmentation & labeling"
      ]
    },
    {
      "cell_type": "markdown",
      "metadata": {
        "id": "fduPg0R3S70d"
      },
      "source": [
        "**import Required libraries**"
      ]
    },
    {
      "cell_type": "code",
      "metadata": {
        "id": "YSbVQ1W4PD3o"
      },
      "source": [
        "import tensorflow as tf\n",
        "import keras_preprocessing\n",
        "from keras_preprocessing import image\n",
        "from keras_preprocessing.image import ImageDataGenerator"
      ],
      "execution_count": 13,
      "outputs": []
    },
    {
      "cell_type": "code",
      "metadata": {
        "colab": {
          "base_uri": "https://localhost:8080/"
        },
        "id": "jFA5xMu_TDHU",
        "outputId": "d4467fb8-af30-42e7-f970-c356a9feba80"
      },
      "source": [
        "train_datagen = ImageDataGenerator(rescale=1./255. ,\n",
        "                                   rotation_range = 20,\n",
        "                                   width_shift_range = 0.2,\n",
        "                                   height_shift_range = 0.2,\n",
        "                                   shear_range = 0.2,\n",
        "                                   zoom_range = 0.2,\n",
        "                                   horizontal_flip = True)\n",
        "\n",
        "val_datagen = ImageDataGenerator(rescale=1./255.)\n",
        "\n",
        "train_generator = train_datagen.flow_from_directory(train_dir,\n",
        "                                                    batch_size = 10,\n",
        "                                                    class_mode = 'binary', \n",
        "                                                    target_size = (150, 150))\n",
        "\n",
        "val_generator = train_datagen.flow_from_directory(val_dir,\n",
        "                                                  batch_size = 10,\n",
        "                                                  class_mode = 'binary', \n",
        "                                                  target_size = (150, 150))"
      ],
      "execution_count": 14,
      "outputs": [
        {
          "output_type": "stream",
          "name": "stdout",
          "text": [
            "Found 4591 images belonging to 2 classes.\n",
            "Found 641 images belonging to 2 classes.\n"
          ]
        }
      ]
    },
    {
      "cell_type": "code",
      "metadata": {
        "id": "KwNqVFDhhWJG"
      },
      "source": [
        "class my_callback(tf.keras.callbacks.Callback):\n",
        "  def on_epoch_end(self, epoch, logs={}):\n",
        "    if (logs.get('accuracy')>=0.97):\n",
        "            print('Reached 97% accuracy so cancelling training!')\n",
        "            self.model.stop_training= True \n",
        "\n",
        "callbacks = my_callback()"
      ],
      "execution_count": 15,
      "outputs": []
    },
    {
      "cell_type": "code",
      "metadata": {
        "colab": {
          "base_uri": "https://localhost:8080/"
        },
        "id": "EA4TKcFdWa0O",
        "outputId": "ed0de7c0-68f9-4668-99cd-9b08fbde72cf"
      },
      "source": [
        "history = model.fit(\n",
        "            train_generator,\n",
        "            validation_data = val_generator,\n",
        "            steps_per_epoch = 100,\n",
        "            epochs = 20,\n",
        "            validation_steps = 50,\n",
        "            verbose = 1,\n",
        "            callbacks =[callbacks])"
      ],
      "execution_count": 16,
      "outputs": [
        {
          "output_type": "stream",
          "name": "stdout",
          "text": [
            "Epoch 1/20\n",
            "100/100 [==============================] - 60s 283ms/step - loss: 0.4117 - accuracy: 0.8510 - val_loss: 0.2000 - val_accuracy: 0.9200\n",
            "Epoch 2/20\n",
            "100/100 [==============================] - 27s 274ms/step - loss: 0.2735 - accuracy: 0.9020 - val_loss: 0.1935 - val_accuracy: 0.9260\n",
            "Epoch 3/20\n",
            "100/100 [==============================] - 27s 274ms/step - loss: 0.2142 - accuracy: 0.9120 - val_loss: 0.2425 - val_accuracy: 0.9220\n",
            "Epoch 4/20\n",
            "100/100 [==============================] - 27s 267ms/step - loss: 0.2301 - accuracy: 0.9190 - val_loss: 0.1992 - val_accuracy: 0.9380\n",
            "Epoch 5/20\n",
            "100/100 [==============================] - 27s 269ms/step - loss: 0.2211 - accuracy: 0.9370 - val_loss: 0.5511 - val_accuracy: 0.8340\n",
            "Epoch 6/20\n",
            "100/100 [==============================] - 27s 269ms/step - loss: 0.2426 - accuracy: 0.9150 - val_loss: 0.1875 - val_accuracy: 0.9380\n",
            "Epoch 7/20\n",
            "100/100 [==============================] - 27s 273ms/step - loss: 0.2335 - accuracy: 0.9263 - val_loss: 0.1427 - val_accuracy: 0.9420\n",
            "Epoch 8/20\n",
            "100/100 [==============================] - 27s 271ms/step - loss: 0.1910 - accuracy: 0.9260 - val_loss: 0.3113 - val_accuracy: 0.9080\n",
            "Epoch 9/20\n",
            "100/100 [==============================] - 27s 267ms/step - loss: 0.2164 - accuracy: 0.9330 - val_loss: 0.1566 - val_accuracy: 0.9480\n",
            "Epoch 10/20\n",
            "100/100 [==============================] - 27s 267ms/step - loss: 0.1730 - accuracy: 0.9440 - val_loss: 0.2215 - val_accuracy: 0.9320\n",
            "Epoch 11/20\n",
            "100/100 [==============================] - 26s 261ms/step - loss: 0.1680 - accuracy: 0.9490 - val_loss: 0.2200 - val_accuracy: 0.9380\n",
            "Epoch 12/20\n",
            "100/100 [==============================] - 26s 265ms/step - loss: 0.1839 - accuracy: 0.9520 - val_loss: 0.1570 - val_accuracy: 0.9360\n",
            "Epoch 13/20\n",
            "100/100 [==============================] - 27s 266ms/step - loss: 0.2084 - accuracy: 0.9370 - val_loss: 0.2198 - val_accuracy: 0.9240\n",
            "Epoch 14/20\n",
            "100/100 [==============================] - 27s 269ms/step - loss: 0.1859 - accuracy: 0.9450 - val_loss: 0.2096 - val_accuracy: 0.9380\n",
            "Epoch 15/20\n",
            "100/100 [==============================] - 26s 265ms/step - loss: 0.1994 - accuracy: 0.9455 - val_loss: 0.4740 - val_accuracy: 0.8760\n",
            "Epoch 16/20\n",
            "100/100 [==============================] - 27s 272ms/step - loss: 0.2118 - accuracy: 0.9300 - val_loss: 0.1676 - val_accuracy: 0.9400\n",
            "Epoch 17/20\n",
            "100/100 [==============================] - 27s 268ms/step - loss: 0.1972 - accuracy: 0.9410 - val_loss: 0.1681 - val_accuracy: 0.9560\n",
            "Epoch 18/20\n",
            "100/100 [==============================] - 26s 265ms/step - loss: 0.1449 - accuracy: 0.9475 - val_loss: 0.1740 - val_accuracy: 0.9420\n",
            "Epoch 19/20\n",
            "100/100 [==============================] - 27s 269ms/step - loss: 0.2044 - accuracy: 0.9420 - val_loss: 0.1816 - val_accuracy: 0.9460\n",
            "Epoch 20/20\n",
            "100/100 [==============================] - 27s 267ms/step - loss: 0.1939 - accuracy: 0.9410 - val_loss: 0.1186 - val_accuracy: 0.9660\n"
          ]
        }
      ]
    },
    {
      "cell_type": "code",
      "metadata": {
        "colab": {
          "base_uri": "https://localhost:8080/",
          "height": 298
        },
        "id": "xu8IJ0kIXB3c",
        "outputId": "9baeec0a-6fae-4adb-c0e0-002aef3cd32a"
      },
      "source": [
        "import matplotlib.pyplot as plt\n",
        "acc = history.history['accuracy']\n",
        "val_acc = history.history['val_accuracy']\n",
        "loss = history.history['loss']\n",
        "val_loss = history.history['val_loss']\n",
        "\n",
        "epochs = range(len(acc))\n",
        "\n",
        "plt.plot(epochs, acc, 'r', label='Training accuracy')\n",
        "plt.plot(epochs, val_acc, 'b', label='Validation accuracy')\n",
        "plt.title('Training and validation accuracy')\n",
        "plt.legend(loc=0)\n",
        "plt.figure()\n",
        "\n",
        "\n",
        "plt.show()"
      ],
      "execution_count": 17,
      "outputs": [
        {
          "output_type": "display_data",
          "data": {
            "image/png": "[encoded data removed]",
            "text/plain": [
              "<Figure size 432x288 with 1 Axes>"
            ]
          },
          "metadata": {
            "needs_background": "light"
          }
        },
        {
          "output_type": "display_data",
          "data": {
            "text/plain": [
              "<Figure size 432x288 with 0 Axes>"
            ]
          },
          "metadata": {}
        }
      ]
    }
  ]
}